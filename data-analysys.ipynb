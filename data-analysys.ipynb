{
 "cells": [
  {
   "cell_type": "markdown",
   "id": "a73e111e",
   "metadata": {},
   "source": [
    "# Stack Overflow Developer Survey\n",
    "Analyze the Stack Overflow Developer Survey data from 2024.\n",
    "\n",
    "Structure:\n",
    "- Analyze the survey and the results\n",
    "- create and train a ML Model\n",
    "- Evaluate the model\n",
    "- make predictions"
   ]
  },
  {
   "cell_type": "code",
   "execution_count": null,
   "id": "5119b194",
   "metadata": {},
   "outputs": [],
   "source": [
    "# make some imports\n",
    "import pandas as pd\n",
    "\n",
    "# read the schema\n",
    "df_schema = pd.read_csv()\n"
   ]
  }
 ],
 "metadata": {
  "language_info": {
   "name": "python"
  }
 },
 "nbformat": 4,
 "nbformat_minor": 5
}
